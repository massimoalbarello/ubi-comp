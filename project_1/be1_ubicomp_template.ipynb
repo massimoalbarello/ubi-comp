{
 "cells": [
  {
   "cell_type": "code",
   "execution_count": null,
   "metadata": {},
   "outputs": [],
   "source": [
    "# Compatibility: Python 3\n",
    "import numpy as np\n",
    "import matplotlib.pyplot as plt\n",
    "%matplotlib widget"
   ]
  },
  {
   "cell_type": "code",
   "execution_count": null,
   "metadata": {},
   "outputs": [],
   "source": [
    "# Load data\n",
    "# .item() is needed as np.load() returns a structured array that needs\n",
    "# to be converted back to a dict. File should be in same location as code.\n",
    "data = np.load(\"ex1_data.dict.npy\", allow_pickle=True).item() \n",
    "\n",
    "print(data.keys())\n",
    "print(\"Length of chest data: {}\".format(len(data[\"chest\"])))\n",
    "print(\"12387th sample of wrist: {}\".format(data[\"wrist\"][12387]))\n"
   ]
  },
  {
   "cell_type": "code",
   "execution_count": null,
   "metadata": {},
   "outputs": [],
   "source": [
    "fig,ax=plt.subplots(nrows=2,ncols=1,figsize=(10, 6), sharex=True)\n",
    "\n",
    "for key in data:\n",
    "    ax[0].plot(data[key], label=key)\n",
    "ax[0].legend(loc='lower right')\n",
    "\n",
    "# you can plot to the other subplot using this pattern\n",
    "#ax[1].plot(...)\n",
    "\n",
    "#programmatic zoom options\n",
    "#ax[0].set_xlim([123, 543])\n",
    "#ax[0].set_ylim([9000000, 9500000])\n",
    "\n",
    "plt.tight_layout()\n",
    "plt.show()"
   ]
  },
  {
   "cell_type": "markdown",
   "metadata": {},
   "source": [
    "# Task 3"
   ]
  },
  {
   "cell_type": "code",
   "execution_count": null,
   "metadata": {},
   "outputs": [],
   "source": [
    "# Load data\n",
    "# .item() is needed as np.load() returns a structured array that needs\n",
    "# to be converted back to a dict. File should be in same location as code.\n",
    "imu_data = np.load(\"ex1_data_task3.dict.npy\", allow_pickle=True).item() \n",
    "\n",
    "print(imu_data.keys())\n",
    "print(\"Length of trace of X-axis data: {}\".format(len(imu_data[\"X\"])))\n",
    "print(\"12387th sample of Y-axis: {}\".format(imu_data[\"Y\"][12387]))"
   ]
  }
 ],
 "metadata": {
  "kernelspec": {
   "display_name": "Python 3",
   "language": "python",
   "name": "python3"
  },
  "language_info": {
   "codemirror_mode": {
    "name": "ipython",
    "version": 3
   },
   "file_extension": ".py",
   "mimetype": "text/x-python",
   "name": "python",
   "nbconvert_exporter": "python",
   "pygments_lexer": "ipython3",
   "version": "3.8.2"
  }
 },
 "nbformat": 4,
 "nbformat_minor": 4
}
