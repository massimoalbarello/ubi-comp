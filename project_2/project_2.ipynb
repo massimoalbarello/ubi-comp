{
 "metadata": {
  "language_info": {
   "codemirror_mode": {
    "name": "ipython",
    "version": 3
   },
   "file_extension": ".py",
   "mimetype": "text/x-python",
   "name": "python",
   "nbconvert_exporter": "python",
   "pygments_lexer": "ipython3",
   "version": 3
  },
  "orig_nbformat": 2
 },
 "nbformat": 4,
 "nbformat_minor": 2,
 "cells": [
  {
   "source": [
    "# Project: Ubiquitous Computing Project 2\n",
    "\n",
    "Date: 05.2021\n",
    "\n",
    "Authors: \n",
    " * Rayan Armani [rarmani@ethz.ch]\n",
    " * Massimo Albarello [malbarello@ethz.ch]\n",
    "\n",
    "## 0. Importing data and necessary libraries\n"
   ],
   "cell_type": "markdown",
   "metadata": {}
  },
  {
   "cell_type": "code",
   "execution_count": null,
   "metadata": {},
   "outputs": [],
   "source": [
    "import pickle \n",
    "import numpy as np\n",
    "from scipy import signal, fft\n",
    "import matplotlib.plt as plt\n",
    "\n",
    "with open(\"participant_01.pkl\", \"rb\") as f:\n",
    "    particiapnt_01_data = pickle.load(f)"
   ]
  },
  {
   "source": [
    "## 1. Feature extraction and data analysis\n",
    "\n",
    "### 1.1 ECG\n",
    "Text explanations can go here or in between python cells in the following parts"
   ],
   "cell_type": "markdown",
   "metadata": {}
  },
  {
   "cell_type": "code",
   "execution_count": null,
   "metadata": {},
   "outputs": [],
   "source": [
    "# Answers for ECG processing task"
   ]
  },
  {
   "source": [
    "### 1.2 EMO\n",
    "Text explanations can go here or in between python cells in the following parts"
   ],
   "cell_type": "markdown",
   "metadata": {}
  },
  {
   "cell_type": "code",
   "execution_count": null,
   "metadata": {},
   "outputs": [],
   "source": [
    "# Answers for facial movement processing task "
   ]
  },
  {
   "source": [
    "### 1.3 EDA\n",
    "Text explanations can go here or in between python cells in the following parts"
   ],
   "cell_type": "markdown",
   "metadata": {}
  },
  {
   "cell_type": "code",
   "execution_count": null,
   "metadata": {},
   "outputs": [],
   "source": []
  },
  {
   "source": [
    "### 1.4 Valence and arousal\n",
    "Text explanations can go here or in between python cells in the following parts"
   ],
   "cell_type": "markdown",
   "metadata": {}
  },
  {
   "cell_type": "code",
   "execution_count": null,
   "metadata": {},
   "outputs": [],
   "source": []
  },
  {
   "source": [
    "## 2. Classification\n",
    "Text explanations can go here or in between python cells in the following parts"
   ],
   "cell_type": "markdown",
   "metadata": {}
  },
  {
   "cell_type": "code",
   "execution_count": null,
   "metadata": {},
   "outputs": [],
   "source": []
  }
 ]
}